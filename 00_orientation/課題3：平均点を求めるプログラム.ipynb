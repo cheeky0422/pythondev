{
 "cells": [
  {
   "cell_type": "code",
   "execution_count": null,
   "id": "82cbbcc4",
   "metadata": {},
   "outputs": [
    {
     "name": "stdout",
     "output_type": "stream",
     "text": [
      "8人のテストの平均点は3.2点です\n"
     ]
    }
   ],
   "source": [
    "count = 0\n",
    "total = 0\n",
    "\n",
    "while True:  # 無限ループ\n",
    "    score = int(input(\"点数を入力してください：\"))\n",
    "\n",
    "    if score == -1:   # -1 ならループ終了\n",
    "        break\n",
    "\n",
    "    # 入力した点数を加算\n",
    "    total += score\n",
    "    count += 1\n",
    "\n",
    "# 平均点の計算（0人の場合、成立しないので回避）\n",
    "if count > 0:\n",
    "    average = round(total / count, 1)  # 小数1位までを表示する\n",
    "    print(f\"{count}人のテストの平均点は{average}点です\")\n",
    "else:\n",
    "    print(\"有効な点数が入力されませんでした\")"
   ]
  }
 ],
 "metadata": {
  "kernelspec": {
   "display_name": ".venv",
   "language": "python",
   "name": "python3"
  },
  "language_info": {
   "codemirror_mode": {
    "name": "ipython",
    "version": 3
   },
   "file_extension": ".py",
   "mimetype": "text/x-python",
   "name": "python",
   "nbconvert_exporter": "python",
   "pygments_lexer": "ipython3",
   "version": "3.12.10"
  }
 },
 "nbformat": 4,
 "nbformat_minor": 5
}
