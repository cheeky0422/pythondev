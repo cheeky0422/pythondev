{
 "cells": [
  {
   "cell_type": "code",
   "execution_count": 4,
   "id": "f97c344a",
   "metadata": {},
   "outputs": [
    {
     "name": "stdout",
     "output_type": "stream",
     "text": [
      "2\n",
      "3\n",
      "5\n",
      "7\n",
      "11\n",
      "13\n",
      "17\n",
      "19\n",
      "23\n",
      "29\n",
      "31\n",
      "37\n",
      "41\n",
      "43\n",
      "47\n",
      "53\n",
      "59\n",
      "61\n",
      "67\n",
      "71\n",
      "73\n",
      "79\n",
      "83\n",
      "89\n",
      "97\n"
     ]
    }
   ],
   "source": [
    "# 1から100までの整数を順番に調べる\n",
    "for n in range(1, 101):\n",
    "    # 1は素数ではない\n",
    "    if n == 1:\n",
    "        continue\n",
    "\n",
    "    # 2, 3, 5, 7 は素数として例外的に残す\n",
    "    if n in (2, 3, 5, 7):\n",
    "        print(n)\n",
    "        continue\n",
    "\n",
    "    # それ以外で 2, 3, 5, 7 のいずれかで割り切れる数は素数ではない\n",
    "    if n % 2 == 0 or n % 3 == 0 or n % 5 == 0 or n % 7 == 0:\n",
    "        continue\n",
    "\n",
    "    # 上記に当てはまらなかった数は素数\n",
    "    print(n)"
   ]
  }
 ],
 "metadata": {
  "kernelspec": {
   "display_name": ".venv",
   "language": "python",
   "name": "python3"
  },
  "language_info": {
   "codemirror_mode": {
    "name": "ipython",
    "version": 3
   },
   "file_extension": ".py",
   "mimetype": "text/x-python",
   "name": "python",
   "nbconvert_exporter": "python",
   "pygments_lexer": "ipython3",
   "version": "3.12.10"
  }
 },
 "nbformat": 4,
 "nbformat_minor": 5
}
