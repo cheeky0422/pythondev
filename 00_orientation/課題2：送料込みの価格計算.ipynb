{
 "cells": [
  {
   "cell_type": "code",
   "execution_count": null,
   "id": "0b37fea0",
   "metadata": {},
   "outputs": [
    {
     "name": "stdout",
     "output_type": "stream",
     "text": [
      "送料として350円かかります\n",
      "送料込みの価格は1450円です。\n"
     ]
    }
   ],
   "source": [
    "# 税抜価格を入力\n",
    "price = int(input(\"税抜価格を入力してください：\"))\n",
    "\n",
    "# 税込価格を計算（税10%をかけて四捨五入）\n",
    "tax_included = round(price * 1.1)\n",
    "\n",
    "# 税込価格によって処理を分ける\n",
    "if tax_included >= 2000:\n",
    "    print(\"送料は無料です\")\n",
    "    print(f\"送料込みの価格は{tax_included}円です。\")\n",
    "else:\n",
    "    print(\"送料として350円かかります\")\n",
    "    total = tax_included + 350\n",
    "    print(f\"送料込みの価格は{total}円です。\")"
   ]
  }
 ],
 "metadata": {
  "kernelspec": {
   "display_name": ".venv",
   "language": "python",
   "name": "python3"
  },
  "language_info": {
   "codemirror_mode": {
    "name": "ipython",
    "version": 3
   },
   "file_extension": ".py",
   "mimetype": "text/x-python",
   "name": "python",
   "nbconvert_exporter": "python",
   "pygments_lexer": "ipython3",
   "version": "3.12.10"
  }
 },
 "nbformat": 4,
 "nbformat_minor": 5
}
