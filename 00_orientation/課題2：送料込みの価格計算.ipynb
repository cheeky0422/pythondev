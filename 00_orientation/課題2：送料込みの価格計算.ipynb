{
 "cells": [
  {
   "cell_type": "code",
   "execution_count": null,
   "id": "0b37fea0",
   "metadata": {},
   "outputs": [
    {
     "name": "stdout",
     "output_type": "stream",
     "text": [
      "Hello World!\n",
      "こんにちは！ 世界！\n"
     ]
    }
   ],
   "source": [
    "# 命令1\n",
    "name = input(\"名前を入力してください: \")\n",
    "# 命令2\n",
    "age = int(input(\"現在の年齢を入力してください: \"))\n",
    "# 命令3\n",
    "print(f\"私の名前は {name} です。来年で {age + 1} 歳になります。\")"
   ]
  }
 ],
 "metadata": {
  "kernelspec": {
   "display_name": ".venv",
   "language": "python",
   "name": "python3"
  },
  "language_info": {
   "codemirror_mode": {
    "name": "ipython",
    "version": 3
   },
   "file_extension": ".py",
   "mimetype": "text/x-python",
   "name": "python",
   "nbconvert_exporter": "python",
   "pygments_lexer": "ipython3",
   "version": "3.12.10"
  }
 },
 "nbformat": 4,
 "nbformat_minor": 5
}
