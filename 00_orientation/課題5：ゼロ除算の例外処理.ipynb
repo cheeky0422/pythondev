{
 "cells": [
  {
   "cell_type": "code",
   "execution_count": null,
   "id": "04273b6b",
   "metadata": {},
   "outputs": [
    {
     "name": "stdout",
     "output_type": "stream",
     "text": [
      "100 ÷ 13 = 7.6923076923076925\n",
      "処理を終了します\n"
     ]
    }
   ],
   "source": [
    "try:\n",
    "    a = int(input(\"割られる数を入力してください：\"))\n",
    "    b = int(input(\"割る数を入力してください：\"))\n",
    "\n",
    "    c = a / b  \n",
    "\n",
    "except ValueError:\n",
    "    # int() 変換時に、数字以外が入力された場合\n",
    "    print(\"エラー: 数値を入力してください\")\n",
    "\n",
    "except ZeroDivisionError:\n",
    "    # 0で割ろうとした場合\n",
    "    print(\"エラー: 0で割ることはできません\")\n",
    "\n",
    "else:\n",
    "    # エラーが発生しなかった場合\n",
    "    print(f\"{a} ÷ {b} = {c}\")\n",
    "\n",
    "finally:\n",
    "    print(\"処理を終了します\")"
   ]
  }
 ],
 "metadata": {
  "kernelspec": {
   "display_name": ".venv",
   "language": "python",
   "name": "python3"
  },
  "language_info": {
   "codemirror_mode": {
    "name": "ipython",
    "version": 3
   },
   "file_extension": ".py",
   "mimetype": "text/x-python",
   "name": "python",
   "nbconvert_exporter": "python",
   "pygments_lexer": "ipython3",
   "version": "3.12.10"
  }
 },
 "nbformat": 4,
 "nbformat_minor": 5
}
